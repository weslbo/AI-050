{
 "cells": [
  {
   "cell_type": "markdown",
   "metadata": {},
   "source": [
    "# Get started with Azure OpenAI Service"
   ]
  },
  {
   "cell_type": "code",
   "execution_count": 1,
   "metadata": {},
   "outputs": [],
   "source": [
    "%run library.py"
   ]
  },
  {
   "cell_type": "code",
   "execution_count": 2,
   "metadata": {},
   "outputs": [
    {
     "data": {
      "text/markdown": [
       "Generative AI, short for Generative Artificial Intelligence, refers to a class of algorithms and models that are designed to generate new, original content based on the data they have been trained on. Unlike traditional AI, which typically focuses on recognition tasks (like classifying images or detecting objects), generative AI focuses on the creation of new data that shares characteristics with the training data.\n",
       "\n",
       "Generative AI models can be used for a variety of applications, including but not limited to:\n",
       "\n",
       "1. **Text Generation**: Models like OpenAI's GPT-3 and GPT-4 can generate coherent and contextually relevant text based on a given prompt. These can be used for writing articles, answering questions, generating dialogue, etc.\n",
       "\n",
       "2. **Image Generation**: Systems like GANs (Generative Adversarial Networks) and diffusion models can create new images, which can be anything from realistic-looking photos to artistic imagery. Tools like DALL-E and Stable Diffusion can generate images from textual descriptions.\n",
       "\n",
       "3. **Music and Audio Generation**: AI models can compose music, generate sound effects, or even create synthetic voices that read text naturally.\n",
       "\n",
       "4. **Video Generation**: Although more complex and computationally intensive, AI is also making strides in generating video content, whether it's creating new scenes or animating characters.\n",
       "\n",
       "5. **Code Generation**: Models like OpenAI's Codex can write code snippets or even entire programs based on natural language descriptions of the desired functionality.\n",
       "\n",
       "Generally, generative AI leverages techniques such as:\n",
       "\n",
       "- **Neural Networks**: Particularly deep learning models that can discern patterns in data and learn to reproduce them.\n",
       "- **Transformers**: Which are particularly effective in natural language processing and text generation tasks.\n",
       "- **Variational Autoencoders (VAEs)**: Which learn efficient data representations in an unsupervised manner.\n",
       "- **Generative Adversarial Networks (GANs)**: Which consist of two competing networks (a generator and a discriminator) that work together to produce increasingly realistic data.\n",
       "\n",
       "Generative AI models are trained on massive datasets and use complex mathematical and statistical techniques to create new content that is similar to the input data but not a direct copy of it. This opens up exciting possibilities for creativity and automation, but also raises ethical and practical considerations, such as the potential for misinformation, intellectual property concerns, and the need for large computational resources."
      ],
      "text/plain": [
       "<IPython.core.display.Markdown object>"
      ]
     },
     "metadata": {},
     "output_type": "display_data"
    }
   ],
   "source": [
    "%%chat\n",
    "\n",
    "What is generative AI?"
   ]
  },
  {
   "cell_type": "code",
   "execution_count": 3,
   "metadata": {},
   "outputs": [
    {
     "data": {
      "text/markdown": [
       "Deploying an Azure OpenAI resource using the Azure Command-Line Interface (CLI) involves several steps, including creating a resource group, and an Azure OpenAI resource, and managing access permissions if necessary. Here is a step-by-step guide:\n",
       "\n",
       "### Prerequisites\n",
       "Ensure you have the Azure CLI installed and configured on your machine. You can install it from [here](https://docs.microsoft.com/en-us/cli/azure/install-azure-cli). Also, make sure the CLI is up to date by running `az upgrade`.\n",
       "\n",
       "### Step-by-Step Guide\n",
       "\n",
       "1. **Sign in to Azure**\n",
       "   ```sh\n",
       "   az login\n",
       "   ```\n",
       "\n",
       "2. **Create a Resource Group**\n",
       "   You need a resource group to organize your resources.\n",
       "   ```sh\n",
       "   az group create --name myResourceGroup --location eastus\n",
       "   ```\n",
       "\n",
       "3. **Create an Azure OpenAI Service Resource**\n",
       "   Use the `az cognitiveservices account` command to create the OpenAI resource. Note that this requires an active Azure subscription with access to the OpenAI service.\n",
       "   \n",
       "   ```sh\n",
       "   az cognitiveservices account create \\\n",
       "     --name myOpenAIResource \\\n",
       "     --resource-group myResourceGroup \\\n",
       "     --kind OpenAI \\\n",
       "     --sku S0 \\\n",
       "     --location eastus \\\n",
       "     --yes\n",
       "   ```\n",
       "\n",
       "4. **Set Up Access Permissions**\n",
       "   If you need to set up access permissions, you can use role assignments.\n",
       "\n",
       "   - **Example: Assign a role to a user or service principal**\n",
       "     ```sh\n",
       "     az role assignment create \\\n",
       "       --assignee <user-or-service-principal-id> \\\n",
       "       --role \"Cognitive Services OpenAI User\" \\\n",
       "       --scope /subscriptions/<subscription-id>/resourceGroups/myResourceGroup/providers/Microsoft.CognitiveServices/accounts/myOpenAIResource\n",
       "     ```\n",
       "\n",
       "### Example Using Variables\n",
       "Here’s a full example using variables to make it easier to manage:\n",
       "```sh\n",
       "# Variables\n",
       "RESOURCE_GROUP=\"myResourceGroup\"\n",
       "LOCATION=\"eastus\"\n",
       "OPENAI_RESOURCE_NAME=\"myOpenAIResource\"\n",
       "SUBSCRIPTION_ID=\"xxxxxxxx-xxxx-xxxx-xxxx-xxxxxxxxxxxx\"\n",
       "ASSIGNEE=\"<user-or-service-principal-id>\"\n",
       "\n",
       "# Sign in to Azure\n",
       "az login\n",
       "\n",
       "# Create a Resource Group\n",
       "az group create --name $RESOURCE_GROUP --location $LOCATION\n",
       "\n",
       "# Create the Azure OpenAI Resource\n",
       "az cognitiveservices account create \\\n",
       "  --name $OPENAI_RESOURCE_NAME \\\n",
       "  --resource-group $RESOURCE_GROUP \\\n",
       "  --kind OpenAI \\\n",
       "  --sku S0 \\\n",
       "  --location $LOCATION \\\n",
       "  --yes\n",
       "\n",
       "# Assign a role to a user or service principal if needed\n",
       "az role assignment create \\\n",
       "  --assignee $ASSIGNEE \\\n",
       "  --role \"Cognitive Services OpenAI User\" \\\n",
       "  --scope /subscriptions/$SUBSCRIPTION_ID/resourceGroups/$RESOURCE_GROUP/providers/Microsoft.CognitiveServices/accounts/$OPENAI_RESOURCE_NAME\n",
       "```\n",
       "\n",
       "### Verification\n",
       "You can verify that the resource was created successfully by listing the cognitive services accounts in your resource group:\n",
       "```sh\n",
       "az cognitiveservices account list --resource-group myResourceGroup\n",
       "```\n",
       "\n",
       "### Access Keys\n",
       "Retrieve the access keys for your OpenAI resource to use it in your applications.\n",
       "```sh\n",
       "az cognitiveservices account keys list --name myOpenAIResource --resource-group myResourceGroup\n",
       "```\n",
       "\n",
       "This guide covers the basic steps to deploy an Azure OpenAI resource using the Azure CLI. For more advanced configurations, refer to the [official Azure documentation](https://docs.microsoft.com/en-us/azure/cognitive-services/openai/)."
      ],
      "text/plain": [
       "<IPython.core.display.Markdown object>"
      ]
     },
     "metadata": {},
     "output_type": "display_data"
    }
   ],
   "source": [
    "%%chat \n",
    "\n",
    "How do you deploy an Azure OpenAI Resource in Azure using the CLI?"
   ]
  },
  {
   "cell_type": "code",
   "execution_count": 4,
   "metadata": {},
   "outputs": [
    {
     "data": {
      "text/markdown": [
       "Azure OpenAI Studio is a powerful platform that enables you to build, deploy, and manage intelligent applications using OpenAI's advanced language models. Here are some of the key features and capabilities you can leverage in Azure OpenAI Studio:\n",
       "\n",
       "1. **Model Customization (Fine-Tuning)**:\n",
       "   - Train and fine-tune pre-existing OpenAI models to better suit specific use cases or domains.\n",
       "   - Customize models for specific industries, terminology, or tasks by providing your own datasets.\n",
       "\n",
       "2. **Prompt Design and Testing**:\n",
       "   - Iteratively design and test prompts to understand how models respond to different types of input.\n",
       "   - Refine your prompts for improved accuracy and relevance in outcomes.\n",
       "\n",
       "3. **Integration with Azure Services**:\n",
       "   - Seamlessly integrate OpenAI models with other Azure services like Azure Functions, Logic Apps, and Azure Kubernetes Service (AKS) to create scalable, intelligent applications.\n",
       "   - Utilize Azure's data storage and processing capabilities to manage the data used for training and inference.\n",
       "\n",
       "4. **API Management**:\n",
       "   - Use APIs to integrate the capabilities of OpenAI models into your applications.\n",
       "   - Manage API keys, monitor usage, and analyze performance metrics through Azure's API management tools.\n",
       "\n",
       "5. **Security and Compliance**:\n",
       "   - Leverage Azure’s enterprise-grade security features and compliance certifications.\n",
       "   - Ensure data privacy and regulatory compliance as required by your industry or region.\n",
       "\n",
       "6. **Collaboration and Workspaces**:\n",
       "   - Collaborate with team members in a shared workspace.\n",
       "   - Track changes, manage versions, and handle permissions within the platform.\n",
       "\n",
       "7. **Monitoring and Diagnostics**:\n",
       "   - Monitor the performance, latency, and error rates of your deployed models.\n",
       "   - Diagnose issues and optimize model performance using Azure's monitoring tools.\n",
       "\n",
       "8. **Cost Management**:\n",
       "   - Track and manage the costs associated with using OpenAI services.\n",
       "   - Use Azure's cost management tools to set budgets and alerts for better financial control.\n",
       "\n",
       "9. **Pre-built Solutions and Templates**:\n",
       "   - Access pre-built templates and solutions to accelerate your development process.\n",
       "   - Use example implementations to quickly understand and deploy common use cases like chatbots, automated content generation, or sentiment analysis.\n",
       "\n",
       "10. **Documentation and Tutorials**:\n",
       "    - Take advantage of comprehensive documentation, tutorials, and examples provided by Azure to get up to speed quickly.\n",
       "    - Access community resources and support for additional help and insights.\n",
       "\n",
       "By leveraging these capabilities, Azure OpenAI Studio enables developers and businesses to create sophisticated AI-driven applications with greater efficiency and effectiveness."
      ],
      "text/plain": [
       "<IPython.core.display.Markdown object>"
      ]
     },
     "metadata": {},
     "output_type": "display_data"
    }
   ],
   "source": [
    "%%chat\n",
    "\n",
    "What can I do with the Azure OpenAI Studio?"
   ]
  },
  {
   "cell_type": "code",
   "execution_count": 5,
   "metadata": {},
   "outputs": [
    {
     "data": {
      "text/markdown": [
       "Sure! Here is a table that summarizes the differences between Chat (GPT-3.5-Turbo and later models), Completions (GPT-3 and earlier models), DALL-E (Image generations), and Assistants (Custom and Copilot-like experiences):\n",
       "\n",
       "| **Feature**      | **Chat (GPT-3.5-Turbo and later models)** | **Completions (GPT-3 and earlier models)** | **DALL-E (Image generations)** | **Assistants (Custom and Copilot-like experiences)** |\n",
       "|------------------|-------------------------------------------|-------------------------------------------|-------------------------------|-----------------------------------------------------|\n",
       "| **Type**         | Conversational AI                         | Text generation AI                        | Image generation AI           | Specialized, context-aware AI services             |\n",
       "| **Input Style**  | Chat-based interactions (multi-turn)      | Single prompts for text completion        | Text prompts for image creation | Customizable, proactive help in specific tasks      |\n",
       "| **Response Style**| Interactive, context-aware replies       | Continuation of provided text             | Generated images              | Task-specific responses and actions                |\n",
       "| **Typical Use Case**| Customer support, interactive agents   | Content creation, text completion         | Art creation, design imagery  | Personal assistants, coding assistance, customized support |\n",
       "| **Capabilities** | Maintains context across conversations    | Generates text based on prompts           | Generates original images     | Can be tailored to domain-specific applications     |\n",
       "| **API Availability** | Chat-focused API endpoints            | Completion-focused API endpoints          | Separate API for image generation | Custom API solutions or integrated tools like GitHub Copilot |\n",
       "| **Examples**     | Chatbots, virtual assistants              | Blog writing assistance, text generation  | Concept art, product design   | AI coding assistant, domain-specific support agents |\n",
       "\n",
       "This table encapsulates the core differences and primary use cases for each type of AI model and service."
      ],
      "text/plain": [
       "<IPython.core.display.Markdown object>"
      ]
     },
     "metadata": {},
     "output_type": "display_data"
    }
   ],
   "source": [
    "%%chat\n",
    "\n",
    "What is the difference between:\n",
    "\n",
    "- Chat (GPT-3.5-Turbo and later models)\n",
    "- Completions (GPT-3 and earlier models)\n",
    "- DALL-E (Image generations)\n",
    "- Assistants (Custom and Copilot-like experiences)\n",
    "\n",
    "Create this as a table.\n"
   ]
  },
  {
   "cell_type": "code",
   "execution_count": 6,
   "metadata": {},
   "outputs": [
    {
     "data": {
      "text/markdown": [
       "In Azure OpenAI Studio, a \"deployment\" refers to the process of making a specific version of an OpenAI model available for your applications. This involves selecting the model, configuring its settings, and enabling it so that it can be accessed via an endpoint for inference tasks.\n",
       "\n",
       "To deploy a model in Azure OpenAI using the Azure CLI, you need to follow these general steps:\n",
       "\n",
       "1. **Log in to Azure:** Make sure you have the Azure CLI installed and logged in to your Azure account.\n",
       "2. **Set the subscription context:** Select the subscription where your resource group and OpenAI Service instance resides.\n",
       "3. **Create a deployment:** Use the `az openai deployment create` command to deploy the model.\n",
       "\n",
       "Below is a detailed example of how you can achieve this:\n",
       "\n",
       "### Step 1: Log in to Azure\n",
       "```sh\n",
       "az login\n",
       "```\n",
       "\n",
       "### Step 2: Set the subscription context\n",
       "If you have more than one subscription, set the correct subscription context:\n",
       "```sh\n",
       "az account set --subscription \"your-subscription-id\"\n",
       "```\n",
       "\n",
       "### Step 3: Create a deployment\n",
       "Firstly, identify the necessary parameters:\n",
       "- **Resource Group Name:** The name of the resource group where your OpenAI service instance is located.\n",
       "- **OpenAI Service Name:** The name of your OpenAI service instance.\n",
       "- **Deployment Name:** A name for your deployment.\n",
       "- **Model ID:** The ID of the model you want to deploy. Model IDs can be found in the Azure OpenAI models documentation or Azure Portal.\n",
       "\n",
       "Here's an example of creating a deployment using the Azure CLI:\n",
       "\n",
       "```sh\n",
       "# Define variables\n",
       "resourceGroup=\"your-resource-group\"\n",
       "openaiServiceName=\"your-openai-service-name\"\n",
       "deploymentName=\"your-deployment-name\"\n",
       "modelId=\"text-davinci-003\"\n",
       "\n",
       "# Create the deployment\n",
       "az openai deployment create \\\n",
       "  --resource-group $resourceGroup \\\n",
       "  --name $openaiServiceName \\\n",
       "  --deployment-name $deploymentName \\\n",
       "  --model $modelId\n",
       "```\n",
       "\n",
       "### Note:\n",
       "- Replace `your-resource-group`, `your-openai-service-name`, `your-deployment-name`, and `text-davinci-003` with your specific values.\n",
       "- Ensure that the model ID specified is supported and available in your region.\n",
       "\n",
       "### Verification:\n",
       "To verify that the deployment was successful, you can list the deployments:\n",
       "\n",
       "```sh\n",
       "az openai deployment list --resource-group $resourceGroup --name $openaiServiceName\n",
       "```\n",
       "\n",
       "This command will return a list of all deployments in the specified OpenAI service instance, including the one you just created.\n",
       "\n",
       "These steps will help you deploy an OpenAI model in Azure using the Azure CLI, making it ready for inference tasks."
      ],
      "text/plain": [
       "<IPython.core.display.Markdown object>"
      ]
     },
     "metadata": {},
     "output_type": "display_data"
    }
   ],
   "source": [
    "%%chat\n",
    "\n",
    "What is a deployment in Azure OpenAI studio? How do I deploy this using the Azure CLI?"
   ]
  },
  {
   "cell_type": "code",
   "execution_count": 7,
   "metadata": {},
   "outputs": [
    {
     "data": {
      "text/markdown": [
       "Sure! Below are example prompts for each of the different tasks you specified:\n",
       "\n",
       "### 1. Classifying Content\n",
       "\n",
       "**Prompt:**\n",
       "```\n",
       "Classify the following customer reviews into 'Positive', 'Negative', or 'Neutral':\n",
       "\n",
       "1. \"The product quality is amazing and it arrived on time. Very satisfied!\"\n",
       "2. \"I'm not happy with the quality of the product. It broke within a day.\"\n",
       "3. \"The product is okay, nothing special but it does the job.\"\n",
       "```\n",
       "\n",
       "### 2. Generating New Content\n",
       "\n",
       "**Prompt:**\n",
       "```\n",
       "Generate a short story about a young wizard discovering his powers for the first time.\n",
       "```\n",
       "\n",
       "### 3. Transformation/Translation\n",
       "\n",
       "**Prompt:**\n",
       "```\n",
       "Translate the following English text to Spanish:\n",
       "\n",
       "\"Can you please provide me with the contact details of the support team? I need assistance with my account.\"\n",
       "```\n",
       "\n",
       "### 4. Summarization\n",
       "\n",
       "**Prompt:**\n",
       "```\n",
       "Summarize the following article in a few sentences:\n",
       "\n",
       "\"Artificial intelligence (AI) has revolutionized many industries by automating tasks, providing deep insights through data analytics, and enhancing human capabilities. From healthcare to finance, AI technologies are being leveraged to improve efficiency and accuracy. However, ethical considerations and regulatory frameworks are needed to guide the responsible development and deployment of AI systems.\"\n",
       "```\n",
       "\n",
       "### 5. Continuation\n",
       "\n",
       "**Prompt:**\n",
       "```\n",
       "Continue the following paragraph:\n",
       "\n",
       "\"As the sun set over the distant hills, Jane felt a strange sense of calmness wash over her. The day's events had been nothing short of chaotic, from the unexpected news at work to the hurried errands around town. But now, standing on her balcony, she...\"\n",
       "```\n",
       "\n",
       "### 6. Question Answering\n",
       "\n",
       "**Prompt:**\n",
       "```\n",
       "What are the major benefits of using renewable energy sources compared to fossil fuels?\n",
       "```\n",
       "\n",
       "### 7. Chat\n",
       "\n",
       "**Prompt:**\n",
       "```\n",
       "Human: Hi! How are you today?\n",
       "AI: \n",
       "```\n",
       "\n",
       "Each of these prompts is tailored to elicit a response corresponding to the specified task. You can use these as templates and modify the content to fit your specific use case."
      ],
      "text/plain": [
       "<IPython.core.display.Markdown object>"
      ]
     },
     "metadata": {},
     "output_type": "display_data"
    }
   ],
   "source": [
    "%%chat\n",
    "\n",
    "Give me an example prompt to get completions from Azure OpenAI models:\n",
    "\n",
    "- Classifying content\n",
    "- Generating new content\n",
    "- Transformation/Translation\n",
    "- Summarization\n",
    "- Continuation\n",
    "- Question answering\n",
    "- Chat\n"
   ]
  },
  {
   "cell_type": "code",
   "execution_count": 8,
   "metadata": {},
   "outputs": [
    {
     "data": {
      "text/markdown": [
       "Positive"
      ],
      "text/plain": [
       "<IPython.core.display.Markdown object>"
      ]
     },
     "metadata": {},
     "output_type": "display_data"
    }
   ],
   "source": [
    "%%chat\n",
    "\n",
    "Classify the following customer feedback into one of the categories: Positive, Neutral, Negative. Feedback: 'The product exceeded my expectations, and the customer service was outstanding."
   ]
  },
  {
   "cell_type": "code",
   "execution_count": 9,
   "metadata": {},
   "outputs": [
    {
     "data": {
      "text/markdown": [
       "Elara Greywood always felt different but never understood why. At sixteen, she led a quiet life in the sleepy village of Mistfall, nestled between old forests and rolling hills. One crisp autumn morning, while delivering bread from her mother’s bakery, she stumbled across an ancient, gnarled tree in the forest. Drawn to its aura, she touched the bark and felt a spark.\n",
       "\n",
       "In that instant, the world shimmered. Birds' songs turned into melodic whispers, and the leaves shimmered with a golden hue. Elara stumbled back, heart pounding. She ran home, confusion clouding her mind. Over the next few days, strange things happened. Flowers bloomed instantly under her gaze, and she accidentally made her brother’s toy dragon fly around the room.\n",
       "\n",
       "Seeking answers, she confided in her grandmother, who revealed an old family secret. Their lineage was magical, and each generation produced a wizard. Elara’s abilities had awakened. Determined to understand her powers, Elara practiced discreetly, finding she could manipulate elements and communicate with forest creatures.\n",
       "\n",
       "Guided by her grandmother’s wisdom, Elara embraced her newfound identity. She trained rigorously, aiming to protect Mistfall from looming shadows only she could sense. The young wizard’s journey had just begun, and destiny awaited her like a tapestry yet to be woven."
      ],
      "text/plain": [
       "<IPython.core.display.Markdown object>"
      ]
     },
     "metadata": {},
     "output_type": "display_data"
    }
   ],
   "source": [
    "%%chat\n",
    "\n",
    "Write a 200-word story about a young wizard who discovers their powers unexpectedly."
   ]
  },
  {
   "cell_type": "code",
   "execution_count": 10,
   "metadata": {},
   "outputs": [
    {
     "data": {
      "text/markdown": [
       "Nous prévoyons de lancer une nouvelle campagne de marketing le mois prochain."
      ],
      "text/plain": [
       "<IPython.core.display.Markdown object>"
      ]
     },
     "metadata": {},
     "output_type": "display_data"
    }
   ],
   "source": [
    "%%chat\n",
    "\n",
    "Translate the following English text into French: 'We are planning to launch a new marketing campaign next month."
   ]
  },
  {
   "cell_type": "code",
   "execution_count": 11,
   "metadata": {},
   "outputs": [
    {
     "data": {
      "text/markdown": [
       "- The global market for electric vehicles is experiencing rapid expansion, with significant investments from major automakers.\n",
       "- Battery production poses some challenges, but advancements in charging infrastructure are ongoing.\n",
       "- These improvements are making electric vehicles increasingly accessible to a wider range of consumers."
      ],
      "text/plain": [
       "<IPython.core.display.Markdown object>"
      ]
     },
     "metadata": {},
     "output_type": "display_data"
    }
   ],
   "source": [
    "%%chat\n",
    "Summarize the following article in no more than 3 sentences in bullet list: 'The global market for electric vehicles is expanding rapidly. Several major automakers are investing heavily in EV technology. Despite some challenges related to battery production, advancements continue to be made in charging infrastructure, making electric vehicles more accessible to a broader audience.'"
   ]
  },
  {
   "cell_type": "code",
   "execution_count": 12,
   "metadata": {},
   "outputs": [
    {
     "data": {
      "text/markdown": [
       "that the events of this evening would alter the course of her life forever. The tranquil amber glow of dusk bathed the landscape, casting long, dramatic shadows that seemed to whisper secrets of what was to come. Emma felt an inexplicable stirring in her heart, a blend of excitement and trepidation. \n",
       "\n",
       "As she walked down the familiar path leading to her home, the air became crisper, and a sudden breeze rustled the leaves around her. She caught sight of an unfamiliar figure standing by the old oak tree. Curiosity piqued, she cautiously approached. The figure turned to reveal a face she hadn't seen in years—Jake, her childhood friend who had mysteriously vanished a decade ago.\n",
       "\n",
       "\"Jake?\" Emma's voice quivered, a mixture of shock and joy. \"What are you doing here?\"\n",
       "\n",
       "Jake's eyes held a mixture of sorrow and urgency. \"Emma, there's no time to explain everything now,\" he said, his voice filled with a gravity that sent a chill down her spine. \"You need to come with me. There's something you need to see—something that will change everything you thought you knew about your past.\"\n",
       "\n",
       "Emma hesitated for a moment but the determination in Jake's eyes convinced her. She nodded, her curiosity getting the better of her caution. Together, they set off into the deepening twilight, unaware of the extraordinary journey that lay ahead."
      ],
      "text/plain": [
       "<IPython.core.display.Markdown object>"
      ]
     },
     "metadata": {},
     "output_type": "display_data"
    }
   ],
   "source": [
    "%%chat\n",
    "\n",
    "Continue the following paragraph: 'As the sun set over the horizon, Emma realized that this was not just another ordinary day. Little did she know...'"
   ]
  },
  {
   "cell_type": "code",
   "execution_count": 13,
   "metadata": {},
   "outputs": [
    {
     "data": {
      "text/markdown": [
       "Electric vehicles (EVs) offer a range of benefits over conventional gasoline-powered cars. Here are some of the key advantages:\n",
       "\n",
       "1. **Environmental Impact**:\n",
       "   - **Lower Emissions**: EVs produce zero tailpipe emissions, significantly reducing air pollution and greenhouse gas emissions, which contribute to climate change.\n",
       "   - **Renewable Energy Integration**: EVs can be charged using renewable energy sources such as solar or wind power, further decreasing their environmental footprint.\n",
       "\n",
       "2. **Energy Efficiency**:\n",
       "   - **Higher Efficiency**: Electric motors convert more energy from the battery to drive the wheels compared to internal combustion engines, which waste more energy as heat.\n",
       "   - **Regenerative Braking**: Many EVs utilize regenerative braking systems, which recover energy during braking and feed it back into the battery.\n",
       "\n",
       "3. **Cost Savings**:\n",
       "   - **Lower Operating Costs**: Electricity is generally cheaper than gasoline on a per-mile basis. Additionally, EVs have fewer moving parts, resulting in lower maintenance costs (e.g., no oil changes, fewer parts to wear out).\n",
       "   - **Incentives**: Many governments offer financial incentives, tax credits, and rebates to encourage the adoption of EVs.\n",
       "\n",
       "4. **Performance**:\n",
       "   - **Instant Torque**: Electric motors provide instant torque, leading to rapid acceleration and smoother power delivery.\n",
       "   - **Quieter Operation**: EVs operate much more quietly compared to gasoline engines, reducing noise pollution.\n",
       "\n",
       "5. **Convenience**:\n",
       "   - **Home Charging**: EV owners can charge their vehicles at home overnight, eliminating the need for frequent trips to gas stations.\n",
       "   - **Expanding Infrastructure**: Public charging infrastructure is continuously growing, making it increasingly convenient to charge EVs during longer trips.\n",
       "\n",
       "6. **Health Benefits**:\n",
       "   - **Reduced Air Pollution**: By lowering emissions, EVs contribute to better air quality, which can lead to improved health outcomes, particularly in urban areas.\n",
       "\n",
       "7. **Energy Independence**:\n",
       "   - **Reduced Dependence on Oil**: Adopting EVs can help decrease reliance on oil, thus enhancing energy security and reducing exposure to oil price volatility.\n",
       "\n",
       "8. **Technological Advancements**:\n",
       "   - **Innovation and Future-Proofing**: The push for EVs drives innovation in battery technology, smart grids, and energy storage, which can have broader applications beyond transportation.\n",
       "\n",
       "9. **Government Regulations**:\n",
       "   - **Compliance with Emission Standards**: Stricter emission standards and regulations are being implemented worldwide, and EVs help manufacturers and consumers comply with these increasingly stringent requirements.\n",
       "\n",
       "10. **Resale Value**:\n",
       "    - **Growing Market Demand**: As demand for EVs increases, their resale value is becoming more competitive compared to traditional gasoline-powered vehicles.\n",
       "\n",
       "By embracing electric vehicles, individuals and societies can reap these significant benefits, contributing to a more sustainable and efficient future."
      ],
      "text/plain": [
       "<IPython.core.display.Markdown object>"
      ]
     },
     "metadata": {},
     "output_type": "display_data"
    }
   ],
   "source": [
    "%%chat\n",
    "\n",
    "What are the key benefits of using electric vehicles over conventional gasoline-powered cars"
   ]
  },
  {
   "cell_type": "code",
   "execution_count": 14,
   "metadata": {},
   "outputs": [
    {
     "data": {
      "text/markdown": [
       "When using the Azure OpenAI Studio playground, you'll find several parameters that can be configured to fine-tune the behavior and outputs of the AI model. Each of these parameters serves a specific purpose:\n",
       "\n",
       "1. **Max Response (Max Tokens)**:\n",
       "   - **Purpose**: Defines the maximum number of tokens (words or word parts) that the response can include. This helps control the length of the AI's output.\n",
       "   - **Usage**: Set this to a higher value for longer responses or a lower value for concise outputs.\n",
       "\n",
       "2. **Temperature**:\n",
       "   - **Purpose**: Determines the randomness of the model's responses. Higher values (closer to 1) make the output more random and creative, while lower values (closer to 0) make it more deterministic and focused.\n",
       "   - **Usage**: Use higher values for creative tasks like writing fiction and lower values for factual or structured outputs.\n",
       "\n",
       "3. **Stop Sequences**:\n",
       "   - **Purpose**: Specifies a set of strings where the model will stop generating further tokens. This can ensure the responses don't go excessively long or go off-topic.\n",
       "   - **Usage**: Useful when you want the response to conclude after a specific sentence or keyword.\n",
       "\n",
       "4. **Top P (Nucleus Sampling)**:\n",
       "   - **Purpose**: Controls the diversity of the response by considering only the top `p` probability mass in the distribution. A value of 0.7, for example, means the model will only consider the top 70% probable next tokens.\n",
       "   - **Usage**: Adjust this for more diverse (higher values) or more concentrated (lower values) responses.\n",
       "\n",
       "5. **Frequency Penalty**:\n",
       "   - **Purpose**: Applies a penalty to tokens that have already appeared frequently in the generated text. It helps in reducing the repetition of phrases.\n",
       "   - **Usage**: Use this if the model tends to repeat itself within the same response.\n",
       "\n",
       "6. **Presence Penalty**:\n",
       "   - **Purpose**: Penalizes new tokens based on whether they appear in the text so far, discouraging the model from repeating any previously mentioned concepts.\n",
       "   - **Usage**: Set this to encourage the model to introduce new topics or ideas.\n",
       "\n",
       "7. **Past Messages Included**:\n",
       "   - **Purpose**: Determines how many of the past messages (in a conversation) to include as context for the model’s response. Keeping more past messages can help maintain context in an ongoing dialogue.\n",
       "   - **Usage**: Adjust this for conversations requiring more contextual understanding from previous interactions.\n",
       "\n",
       "Configuring these parameters appropriately can help you achieve the desired behavior and quality of the responses from the AI model based on your specific use case."
      ],
      "text/plain": [
       "<IPython.core.display.Markdown object>"
      ]
     },
     "metadata": {},
     "output_type": "display_data"
    }
   ],
   "source": [
    "%%chat\n",
    "\n",
    "When using Azure OpenAI Studio playground, there are a few parameters to configure. What are they used for?\n",
    "\n",
    "- Max response\n",
    "- Temperature\n",
    "- Stop sequences\n",
    "- Top P\n",
    "- Frequency penalty\n",
    "- Presence penalty\n",
    "- Past messages included"
   ]
  },
  {
   "cell_type": "markdown",
   "metadata": {},
   "source": [
    "## Knowledge check"
   ]
  },
  {
   "cell_type": "code",
   "execution_count": 15,
   "metadata": {},
   "outputs": [
    {
     "data": {
      "text/markdown": [
       "To test a generative AI model using the Azure OpenAI Service Studio, you need:\n",
       "\n",
       "- An Azure OpenAI resource, a deployed model, and a playground\n",
       "\n",
       "This is the correct answer. Here's why:\n",
       "\n",
       "- **Azure OpenAI resource**: This is essential because it's the core service that provides access to the OpenAI models via Azure.\n",
       "- **Deployed model**: You need a model that has already been deployed, as this is what you will be testing.\n",
       "- **Playground**: The playground is the interactive environment within Azure OpenAI Service Studio where you can test and fine-tune your model by providing prompts and receiving responses in real-time.\n",
       "\n",
       "Other options mentioned in the question are not sufficient for testing the model:\n",
       "- A deployed model name and Azure command line interface might be useful for certain operations, but they do not provide the interactive testing and fine-tuning features that the playground offers.\n",
       "- An Azure Cognitive Services resource is not directly related to the Azure OpenAI Service and is not necessary for this specific task."
      ],
      "text/plain": [
       "<IPython.core.display.Markdown object>"
      ]
     },
     "metadata": {},
     "output_type": "display_data"
    }
   ],
   "source": [
    "%%chat \n",
    "\n",
    "What do you need in order to test a generative AI model using the Azure OpenAI Service Studio?\n",
    "\n",
    "- A deployed model name and Azure command line interface\n",
    "- An Azure OpenAI resource and an Azure Cognitive Services resource\n",
    "- An Azure OpenAI resource, a deployed model, and a playground\n",
    "\n",
    "Choose the correct answer and explain why"
   ]
  },
  {
   "cell_type": "code",
   "execution_count": 16,
   "metadata": {},
   "outputs": [
    {
     "data": {
      "text/markdown": [
       "The correct answer is **Temperature**.\n",
       "\n",
       "**Temperature** is a parameter that controls the randomness or creativity of the completions generated by a language model like GPT. It essentially determines how deterministic or random the output will be. A lower temperature (close to 0) will make the model's output more deterministic and focused on the most probable next word, resulting in more predictable and consistent completions. A higher temperature (closer to 1 or above) will introduce more randomness, making the completions more creative and varied by exploring less likely alternatives.\n",
       "\n",
       "Here's a quick overview of the other parameters mentioned:\n",
       "\n",
       "- **Frequency Penalty**: This parameter alters the likelihood of the model repeating the same token or word. Applying a frequency penalty can help in generating more diverse text, but it does not directly control the overall randomness of the output like temperature does.\n",
       "\n",
       "- **Stop Sequence**: This parameter is used to define specific tokens or sequences where the generation of text should stop. It's useful for controlling the length or specific endpoints of the completion, not for adjusting the randomness or creativity of the responses. \n",
       "\n",
       "Therefore, adjusting the Temperature parameter is the most direct way to influence the randomness and creativity of the model's completions."
      ],
      "text/plain": [
       "<IPython.core.display.Markdown object>"
      ]
     },
     "metadata": {},
     "output_type": "display_data"
    }
   ],
   "source": [
    "%%chat\n",
    "\n",
    "Which parameter could you adjust to change the randomness or creativeness of completions\n",
    "\n",
    "- Temperature\n",
    "- Frequency penalty\n",
    "- Stop sequence \n",
    "\n",
    "Choose the correct answer and explain why"
   ]
  },
  {
   "cell_type": "code",
   "execution_count": 17,
   "metadata": {},
   "outputs": [
    {
     "data": {
      "text/markdown": [
       "The correct answer is **Chat**.\n",
       "\n",
       "**Explanation:**\n",
       "\n",
       "Azure OpenAI Studio offers different playgrounds to support various tasks and interactions. Among the options provided:\n",
       "\n",
       "- **Completions**: This playground is typically used for generating text based on a given prompt. It is designed for single-turn interactions where you provide an input prompt, and the model generates a completion. It does not natively handle multi-turn, conversational contexts inherently.\n",
       "\n",
       "- **Chat**: The Chat playground is specifically designed to support conversational interactions that involve a sequence of messages. This playground is tailored for scenarios where maintaining context across multiple turns of conversation is necessary. It allows you to send a series of messages (usually as a system, user, and assistant) and the model can keep track of the context for these multi-turn interactions, making it ideal for chatbots and conversational AI applications.\n",
       "\n",
       "- **Bot**: This option is not a standard playground in Azure OpenAI Studio but generally refers to a broader category of applications that can be built using the capabilities of the OpenAI models. Bots utilize the Chat playground or API to facilitate interactive conversations, but \"Bot\" itself is not a specific playground in the context of Azure OpenAI Studio.\n",
       "\n",
       "Therefore, the **Chat** playground is the appropriate choice as it is designed to handle and manage sequences of messages in a conversational interaction."
      ],
      "text/plain": [
       "<IPython.core.display.Markdown object>"
      ]
     },
     "metadata": {},
     "output_type": "display_data"
    }
   ],
   "source": [
    "%%chat\n",
    "\n",
    "Which Azure OpenAI Studio playground is able to support conversational interactions that consist of a sequence of messages?\n",
    "\n",
    "- Completions\n",
    "- Chat\n",
    "- Bot\n",
    "\n",
    "Choose the correct answer and explain why"
   ]
  }
 ],
 "metadata": {
  "kernelspec": {
   "display_name": "Python 3",
   "language": "python",
   "name": "python3"
  },
  "language_info": {
   "codemirror_mode": {
    "name": "ipython",
    "version": 3
   },
   "file_extension": ".py",
   "mimetype": "text/x-python",
   "name": "python",
   "nbconvert_exporter": "python",
   "pygments_lexer": "ipython3",
   "version": "3.11.9"
  }
 },
 "nbformat": 4,
 "nbformat_minor": 2
}
