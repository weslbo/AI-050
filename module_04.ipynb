{
 "cells": [
  {
   "cell_type": "markdown",
   "metadata": {},
   "source": [
    "# Generate code with Azure OpenAI Service"
   ]
  },
  {
   "cell_type": "code",
   "execution_count": 5,
   "metadata": {},
   "outputs": [],
   "source": [
    "%run library.py"
   ]
  },
  {
   "cell_type": "markdown",
   "metadata": {},
   "source": [
    "## Use natural language prompts to generate code"
   ]
  },
  {
   "cell_type": "code",
   "execution_count": 6,
   "metadata": {},
   "outputs": [
    {
     "data": {
      "text/markdown": [
       "Sure! Here is a simple implementation of the binary search algorithm in Python:\n",
       "\n",
       "```python\n",
       "def binary_search(arr, target):\n",
       "    \"\"\"\n",
       "    Conducts a binary search on a sorted array to find the target element.\n",
       "    \n",
       "    :param arr: List of elements sorted in ascending order\n",
       "    :param target: The element to search for\n",
       "    :return: The index of the target element if found, otherwise -1\n",
       "    \"\"\"\n",
       "    left, right = 0, len(arr) - 1\n",
       "    \n",
       "    while left <= right:\n",
       "        mid = left + (right - left) // 2\n",
       "        \n",
       "        # Check if target is present at mid\n",
       "        if arr[mid] == target:\n",
       "            return mid\n",
       "        # If target is greater, ignore left half\n",
       "        elif arr[mid] < target:\n",
       "            left = mid + 1\n",
       "        # If target is smaller, ignore right half\n",
       "        else:\n",
       "            right = mid - 1\n",
       "    \n",
       "    # Target was not found in the array\n",
       "    return -1\n",
       "\n",
       "# Example usage\n",
       "if __name__ == \"__main__\":\n",
       "    sorted_array = [1, 2, 4, 5, 6, 8, 10]\n",
       "    target_value = 5\n",
       "    result = binary_search(sorted_array, target_value)\n",
       "    \n",
       "    if result != -1:\n",
       "        print(f\"Element found at index {result}\")\n",
       "    else:\n",
       "        print(\"Element not found in array\")\n",
       "```\n",
       "\n",
       "### Explanation:\n",
       "\n",
       "1. **Function Definition**: The function `binary_search` takes two parameters: a sorted list `arr` and a `target` value to search for.\n",
       "\n",
       "2. **Initialization**: Initialize two pointers, `left` starting at the beginning of the array and `right` at the end.\n",
       "\n",
       "3. **While Loop**: The loop runs as long as `left` is less than or equal to `right`.\n",
       "\n",
       "4. **Middle Calculation**: Calculate the middle index `mid` and check if the `target` is present at this middle index.\n",
       "   \n",
       "    - If `arr[mid]` is equal to `target`, return the `mid` index.\n",
       "    - If `arr[mid]` is less than the `target`, it means the target must be in the right half of the array. So, adjust the `left` pointer to `mid + 1`.\n",
       "    - If `arr[mid]` is greater than the `target`, it means the target must be in the left half of the array. So, adjust the `right` pointer to `mid - 1`.\n",
       "\n",
       "5. **Return -1**: If the loop completes without finding the target, return `-1` indicating that the target is not in the array.\n",
       "\n",
       "This algorithm has a time complexity of \\(O(\\log n)\\), making it efficient for large datasets, assuming the data is already sorted."
      ],
      "text/plain": [
       "<IPython.core.display.Markdown object>"
      ]
     },
     "metadata": {},
     "output_type": "display_data"
    }
   ],
   "source": [
    "%%chat\n",
    "\n",
    "write a function for binary search in python"
   ]
  },
  {
   "cell_type": "markdown",
   "metadata": {},
   "source": [
    "## Change programming language and understand unknown code"
   ]
  },
  {
   "cell_type": "code",
   "execution_count": 4,
   "metadata": {},
   "outputs": [
    {
     "data": {
      "text/markdown": [
       "Certainly! Below is the equivalent C# code for the given Python function:\n",
       "\n",
       "```csharp\n",
       "using System;\n",
       "\n",
       "class Program\n",
       "{\n",
       "    static void Main()\n",
       "    {\n",
       "        PrintSquares(5); // Example call to the method with n = 5\n",
       "    }\n",
       "\n",
       "    static void PrintSquares(int n)\n",
       "    {\n",
       "        for (int i = 1; i <= n; i++)\n",
       "        {\n",
       "            Console.WriteLine(i * i);\n",
       "        }\n",
       "    }\n",
       "}\n",
       "```\n",
       "\n",
       "Here's a breakdown of the code:\n",
       "\n",
       "- The `PrintSquares` method in C# replicates the functionality of the `print_squares` function in Python.\n",
       "- In the `Main` method, which is the entry point of a C# console application, an example call to `PrintSquares(5)` is made. You can change this value to test with different inputs.\n",
       "- The `for` loop in `PrintSquares` iterates from 1 to `n` (inclusive) and prints the square of each number using `Console.WriteLine`."
      ],
      "text/plain": [
       "<IPython.core.display.Markdown object>"
      ]
     },
     "metadata": {},
     "output_type": "display_data"
    }
   ],
   "source": [
    "%%chat\n",
    "\n",
    "Convert the following code to C#:\n",
    "\n",
    "def print_squares(n):  \n",
    "    for i in range(1, n+1):  \n",
    "        print(i**2)"
   ]
  },
  {
   "cell_type": "code",
   "execution_count": 5,
   "metadata": {},
   "outputs": [
    {
     "data": {
      "text/markdown": [
       "Certainly! The code you have posted in Rust represents a recursive function named `qzplv` which seems to implement a version of the Ackermann function. The Ackermann function is a well-known example of a recursive function that is not primitive recursive, which makes it highly interesting in the study of computation and recursive functions.\n",
       "\n",
       "Let's analyze the function step by step:\n",
       "\n",
       "```rust\n",
       "fn qzplv(n: i32, m: i32) -> i32 {\n",
       "    if n == 0 {\n",
       "        return m + 1;\n",
       "    } else if m == 0 {\n",
       "        return qzplv(n - 1, 1);\n",
       "    } else {\n",
       "        return qzplv(n - 1, qzplv(n, m - 1));\n",
       "    }\n",
       "}\n",
       "```\n",
       "\n",
       "### How it Works:\n",
       "1. **Base Case (`n == 0`)**:\n",
       "    - When `n` is 0, the function returns `m + 1`.\n",
       "    - This is the simplest case and serves as the termination condition for the recursion when `n` reaches 0.\n",
       "    \n",
       "    ```rust\n",
       "    if n == 0 {\n",
       "        return m + 1;\n",
       "    }\n",
       "    ```\n",
       "\n",
       "2. **When `m` is 0 and `n` is not 0**:\n",
       "    - When `m` is 0 but `n` is not, the function calls itself with `n - 1` and 1.\n",
       "    - This essentially reduces `n` by 1 and resets `m` to 1.\n",
       "\n",
       "    ```rust\n",
       "    else if m == 0 {\n",
       "        return qzplv(n - 1, 1);\n",
       "    }\n",
       "    ```\n",
       "\n",
       "3. **General Case**:\n",
       "    - When both `n` and `m` are not 0, the function makes two recursive calls:\n",
       "      1. It first calls itself with the original `n` and `m - 1`.\n",
       "      2. Then it uses the result of that call to make another recursive call where `n` is reduced by 1 and `m` is set to the result of the previous call.\n",
       "\n",
       "    ```rust\n",
       "    else {\n",
       "        return qzplv(n - 1, qzplv(n, m - 1));\n",
       "    }\n",
       "    ```\n",
       "\n",
       "### Example Calculations:\n",
       "- To evaluate `qzplv(1, 2)`:\n",
       "  - It doesn't hit the base case or the second condition.\n",
       "  - So it evaluates `qzplv(1, 2)` which becomes `qzplv(0, qzplv(1, 1))`.\n",
       "    - `qzplv(1, 1)` becomes `qzplv(0, qzplv(1, 0))`.\n",
       "      - `qzplv(1, 0)` becomes `qzplv(0, 1)`, which is `1 + 1 = 2`.\n",
       "    - So `qzplv(1, 1)` becomes `qzplv(0, 2)`, which is `2 + 1 = 3`.\n",
       "  - Then `qzplv(1, 2)` becomes `qzplv(0, 3)`, which is `3 + 1 = 4`.\n",
       "\n",
       "### Summary:\n",
       "The `qzplv` function is a recursive implementation of the Ackermann function, demonstrating deep recursion and exponential growth. It highlights the complexities and the intricacies of recursion beyond simple summation or factorial functions.\n",
       "\n",
       "### Important Notes:\n",
       "- The Ackermann function grows very quickly, so even moderate input values can lead to very deep and extensive recursions, potentially causing stack overflow in most programming environments.\n",
       "- This function is particularly used for theoretical computer science to explore concepts of computability and complexity."
      ],
      "text/plain": [
       "<IPython.core.display.Markdown object>"
      ]
     },
     "metadata": {},
     "output_type": "display_data"
    }
   ],
   "source": [
    "%%chat\n",
    "\n",
    "Could you explain what this code is doing?:\n",
    "\n",
    "fn qzplv(n: i32, m: i32) -> i32 {\n",
    "    if n == 0 {\n",
    "        return m + 1;\n",
    "    } else if m == 0 {\n",
    "        return qzplv(n - 1, 1);\n",
    "    } else {\n",
    "        return qzplv(n - 1, qzplv(n, m - 1));\n",
    "    }\n",
    "}\n"
   ]
  },
  {
   "cell_type": "markdown",
   "metadata": {},
   "source": [
    "## Complete partial code"
   ]
  },
  {
   "cell_type": "code",
   "execution_count": 6,
   "metadata": {},
   "outputs": [
    {
     "data": {
      "text/markdown": [
       "Certainly! Here's the completion for the function that calculates the average of even numbers in an array:\n",
       "\n",
       "```python\n",
       "def average_of_evens(numbers):\n",
       "    # Filter out the even numbers from the array\n",
       "    even_numbers = [num for num in numbers if num % 2 == 0]\n",
       "    \n",
       "    # Check if there are even numbers to avoid division by zero\n",
       "    if not even_numbers:\n",
       "        return 0  # or you could return None or appropriate value indicating no even numbers\n",
       "    \n",
       "    # Calculate the average of even numbers\n",
       "    average = sum(even_numbers) / len(even_numbers)\n",
       "    \n",
       "    return average\n",
       "\n",
       "# Example usage\n",
       "numbers = [1, 2, 3, 4, 5, 6]\n",
       "print(average_of_evens(numbers))  # Output will be 4.0 because (2 + 4 + 6) / 3 = 4.0\n",
       "```\n",
       "\n",
       "This function filters out the even numbers from the input list `numbers`, then calculates the average of these even numbers. If there are no even numbers in the list, the function returns `0` to indicate that no computation could be made. Adjust the return value as per your specific requirement if `0` does not suit your needs."
      ],
      "text/plain": [
       "<IPython.core.display.Markdown object>"
      ]
     },
     "metadata": {},
     "output_type": "display_data"
    }
   ],
   "source": [
    "%%chat\n",
    "\n",
    "complete the following function  \n",
    "\n",
    "\"\"\"  \n",
    "# calculate the average of the numbers \n",
    "# in an array, but only if they're even  \n",
    "def "
   ]
  },
  {
   "cell_type": "markdown",
   "metadata": {},
   "source": [
    "## Write unit tests"
   ]
  },
  {
   "cell_type": "code",
   "execution_count": 7,
   "metadata": {},
   "outputs": [
    {
     "data": {
      "text/markdown": [
       "Certainly! Here are three unit tests for the `binary_search` function. These tests include typical scenarios such as finding an existing element, not finding an element, and handling edge cases like an empty array and array with a single element.\n",
       "\n",
       "You can use the `unittest` module in Python to create and run these tests.\n",
       "\n",
       "```python\n",
       "import unittest\n",
       "\n",
       "class TestBinarySearch(unittest.TestCase):\n",
       "    def test_element_found(self):\n",
       "        # Test when the target element is present in the array\n",
       "        arr = [1, 2, 3, 4, 5, 6, 7, 8, 9]\n",
       "        target = 4\n",
       "        expected = 3\n",
       "        result = binary_search(arr, target)\n",
       "        self.assertEqual(result, expected)\n",
       "\n",
       "    def test_element_not_found(self):\n",
       "        # Test when the target element is not present in the array\n",
       "        arr = [1, 2, 3, 4, 5, 6, 7, 8, 9]\n",
       "        target = 10\n",
       "        expected = -1\n",
       "        result = binary_search(arr, target)\n",
       "        self.assertEqual(result, expected)\n",
       "\n",
       "    def test_single_element(self):\n",
       "        # Test with a single element array\n",
       "        arr = [5]\n",
       "        target = 5\n",
       "        expected = 0\n",
       "        result = binary_search(arr, target)\n",
       "        self.assertEqual(result, expected)\n",
       "        \n",
       "        # Test with a single element array where target is not found\n",
       "        target = 1\n",
       "        expected = -1\n",
       "        result = binary_search(arr, target)\n",
       "        self.assertEqual(result, expected)\n",
       "        \n",
       "    def test_empty_array(self):\n",
       "        # Test with an empty array\n",
       "        arr = []\n",
       "        target = 3\n",
       "        expected = -1\n",
       "        result = binary_search(arr, target)\n",
       "        self.assertEqual(result, expected)\n",
       "\n",
       "if __name__ == '__main__':\n",
       "    unittest.main()\n",
       "```\n",
       "\n",
       "### Explanation of Each Test Case:\n",
       "1. **test_element_found:** \n",
       "   - This test checks if the function correctly finds an element that exists in the array. \n",
       "   - The `target` 4 is present at index 3 in the array.\n",
       "\n",
       "2. **test_element_not_found:**\n",
       "   - This test checks the function's behavior when the target element is not present in the array.\n",
       "   - The `target` 10 is not present in the array, so it should return -1.\n",
       "\n",
       "3. **test_single_element:**\n",
       "   - This test checks the function with a single-element array where the target is found.\n",
       "   - The `target` 5 is present at index 0 in the array.\n",
       "   - It also includes a subtest where the `target` 1 is not found in the single-element array, and should return -1.\n",
       "\n",
       "4. **test_empty_array:**\n",
       "   - This test checks the function's behavior when the array is empty.\n",
       "   - Any `target` should return -1 in this case as the array is empty.\n",
       "\n",
       "You can run these tests by saving the code above in a Python file and executing it. The `unittest` framework will automatically discover and run the tests, reporting any failures or errors."
      ],
      "text/plain": [
       "<IPython.core.display.Markdown object>"
      ]
     },
     "metadata": {},
     "output_type": "display_data"
    }
   ],
   "source": [
    "%%chat\n",
    "\n",
    "write three unit tests for this function\n",
    "\n",
    "\"\"\"  \n",
    "def binary_search(arr, target):\n",
    "    left, right = 0, len(arr) - 1\n",
    "    while left <= right:\n",
    "        mid = (left + right) // 2\n",
    "        if arr[mid] == target:\n",
    "            return mid\n",
    "        elif arr[mid] < target:\n",
    "            left = mid + 1\n",
    "        else:\n",
    "            right = mid - 1\n",
    "    return -1\n"
   ]
  },
  {
   "cell_type": "markdown",
   "metadata": {},
   "source": [
    "## Fix bugs in your code"
   ]
  },
  {
   "cell_type": "code",
   "execution_count": 8,
   "metadata": {},
   "outputs": [
    {
     "data": {
      "text/markdown": [
       "Sure, I see a few issues in your function. Here's the corrected version:\n",
       "\n",
       "1. The typo `rerun averave` should be `return average`.\n",
       "2. `average` should be calculated as `total / len(numbers)` instead of just assigning `total`.\n",
       "3. It's a good idea to include a check to handle the case where the list might be empty to avoid division by zero.\n",
       "\n",
       "Here is the corrected function:\n",
       "\n",
       "```python\n",
       "def calculate_average(numbers):\n",
       "    if not numbers:  # Check if the list is empty\n",
       "        return 0  # or handle as you see fit\n",
       "    total = 0\n",
       "    for i in range(len(numbers)):\n",
       "        number = numbers[i]\n",
       "        total += number\n",
       "    average = total / len(numbers)\n",
       "    return average\n",
       "```\n",
       "\n",
       "This function will now correctly calculate the average of the numbers in the list and handle edge cases."
      ],
      "text/plain": [
       "<IPython.core.display.Markdown object>"
      ]
     },
     "metadata": {},
     "output_type": "display_data"
    }
   ],
   "source": [
    "%%chat\n",
    "\n",
    "This function isn’t working for me. Fix the bugs in this function\n",
    "\n",
    "\"\"\"  \n",
    "def calculate_average(numbers):  \n",
    "    total = 0  \n",
    "    for i in range(len(numbers)):  \n",
    "        number = numbers[i]  \n",
    "        total += number  \n",
    "    average = total  \n",
    "    rerun averave \n"
   ]
  },
  {
   "cell_type": "markdown",
   "metadata": {},
   "source": [
    "## Improve performance"
   ]
  },
  {
   "cell_type": "code",
   "execution_count": 9,
   "metadata": {},
   "outputs": [
    {
     "data": {
      "text/markdown": [
       "Yes, the function `sum_of_n` can be made more efficient. Currently, it uses a loop to compute the sum of the first \\( n \\) natural numbers. This has a time complexity of \\( O(n) \\). However, there is a mathematical formula to compute the sum of the first \\( n \\) natural numbers in constant time \\( O(1) \\):\n",
       "\n",
       "\\[ \\text{sum} = \\frac{n \\times (n + 1)}{2} \\]\n",
       "\n",
       "Using this formula, you can significantly optimize your function:\n",
       "\n",
       "```python\n",
       "def sum_of_n(n):\n",
       "    return n * (n + 1) // 2\n",
       "```\n",
       "\n",
       "Here's a comparison of the two implementations for clarity:\n",
       "\n",
       "### Original Implementation:\n",
       "```python\n",
       "def sum_of_n(n):\n",
       "    result = 0\n",
       "    for i in range(1, n+1):\n",
       "        result += i\n",
       "    return result\n",
       "```\n",
       "\n",
       "### Optimized Implementation:\n",
       "```python\n",
       "def sum_of_n(n):\n",
       "    return n * (n + 1) // 2\n",
       "```\n",
       "\n",
       "The optimized implementation directly computes the result using the mathematical formula, avoiding the need for a loop and thus improving efficiency."
      ],
      "text/plain": [
       "<IPython.core.display.Markdown object>"
      ]
     },
     "metadata": {},
     "output_type": "display_data"
    }
   ],
   "source": [
    "%%chat\n",
    "\n",
    "Can this function be more efficient?\n",
    "\n",
    "\"\"\"  \n",
    "def sum_of_n(n):\n",
    "    result = 0\n",
    "    for i in range(1, n+1):\n",
    "        result += i\n",
    "    return result"
   ]
  },
  {
   "cell_type": "markdown",
   "metadata": {},
   "source": [
    "## Knowledge check"
   ]
  },
  {
   "cell_type": "code",
   "execution_count": 2,
   "metadata": {},
   "outputs": [
    {
     "data": {
      "text/markdown": [
       "The correct answer is:\n",
       "\n",
       "- Increase in efficiency and productivity\n",
       "\n",
       "### Explanation:\n",
       "\n",
       "Using Azure OpenAI to generate code can significantly boost efficiency and productivity for several reasons:\n",
       "\n",
       "1. **Automating Repetitive Tasks**: AI can handle mundane and repetitive coding tasks, allowing developers to focus on more complex and creative aspects of their projects.\n",
       "\n",
       "2. **Speeding Up Development**: By leveraging AI to generate boilerplate code, prototypes, or even functional code snippets, development time can be greatly reduced.\n",
       "\n",
       "3. **Assisting with Syntax and Best Practices**: The AI can provide suggestions or complete code adhering to best practices, potentially reducing the time spent on debugging and refactoring.\n",
       "\n",
       "4. **Knowledge and Expertise**: Access to the vast amount of data Azure OpenAI is trained on can help solve problems or implement features that a developer might not be familiar with, thus reducing the time spent researching and writing new code.\n",
       "\n",
       "The other options—**increase in bugs and readability** and **increase in time spent coding**—are typically contrary to the intended use and benefits of AI-driven code generation. Properly trained and implemented AI tools aim to reduce bugs through adherence to best practices and to improve readability by following widely accepted coding standards. Also, these tools help reduce the time spent coding rather than increasing it."
      ],
      "text/plain": [
       "<IPython.core.display.Markdown object>"
      ]
     },
     "metadata": {},
     "output_type": "display_data"
    }
   ],
   "source": [
    "%%chat\n",
    "\n",
    "What are some benefits of using Azure OpenAI to generate code?\n",
    "\n",
    "- Increase in efficiency and productivity\n",
    "- Increase in bugs and readability\n",
    "- Increase in time spent coding\n",
    "\n",
    "Choose the correct answer and explain why"
   ]
  },
  {
   "cell_type": "code",
   "execution_count": 3,
   "metadata": {},
   "outputs": [
    {
     "data": {
      "text/markdown": [
       "The correct answer is:\n",
       "\n",
       "- The more context provided to the model, the more accurate the response likely is\n",
       "\n",
       "### Explanation:\n",
       "\n",
       "When using language models, such as those from Azure OpenAI, providing more context generally leads to more accurate and relevant responses. This is because:\n",
       "\n",
       "1. **Understanding Intent**: More context helps the model better understand the intent behind the code snippet or the specific task you're trying to achieve. This improves its ability to generate appropriate continuation or completion.\n",
       "\n",
       "2. **Identifying Dependencies**: Additional context can provide necessary details about variables, functions, and classes that the code snippet might depend on. Without enough context, the model might generate code that doesn't work within the broader codebase or doesn't accurately follow coding standards and conventions used in the provided environment.\n",
       "\n",
       "3. **Reducing Ambiguity**: Ambiguity is reduced when the model has a larger portion of relevant information. For example, knowing the preceding code lines helps the model understand the current state of the code and what might logically follow.\n",
       "\n",
       "4. **Leveraging Precedents**: Longer context windows allow the model to leverage previous examples and patterns in the code, leading to more consistent and high-quality outputs.\n",
       "\n",
       "In summary, providing more context helps the model make better-informed decisions, which typically enhances the accuracy of its responses."
      ],
      "text/plain": [
       "<IPython.core.display.Markdown object>"
      ]
     },
     "metadata": {},
     "output_type": "display_data"
    }
   ],
   "source": [
    "%%chat\n",
    "\n",
    "What is the purpose of providing more context to the Azure OpenAI model when completing partial code?\n",
    "\n",
    "- Providing more context makes the model less accurate\n",
    "- Providing more context doesn’t affect the accuracy of the model\n",
    "- The more context provided to the model, the more accurate the response likely is\n",
    "\n",
    "Choose the correct answer and explain why"
   ]
  },
  {
   "cell_type": "code",
   "execution_count": 4,
   "metadata": {},
   "outputs": [
    {
     "data": {
      "text/markdown": [
       "The correct answer is:\n",
       "\n",
       "- If you have code in one language, but need it in another, Azure OpenAI can translate that for you in several languages\n",
       "\n",
       "### Explanation:\n",
       "\n",
       "Azure OpenAI models, specifically those based on the GPT-3 or later architectures, have the capability to understand and generate code in multiple programming languages. This is not limited to any specific pair of languages like only C# or Python to C# or Java. These models have been trained on a diverse set of coding examples from various languages, which allows them to translate code snippets across multiple programming environments.\n",
       "\n",
       "For example, you could provide a snippet of Python code and ask the model to translate it into JavaScript, C#, Java, or other supported languages. The model uses its learned knowledge to generate syntactically correct and functionally equivalent code in the desired target language.\n",
       "\n",
       "The incorrect answers are:\n",
       "\n",
       "- **\"Azure OpenAI models can only translate code from one language to another if the code is written in C#\"**:\n",
       "  This statement is incorrect because Azure OpenAI models are not limited to translating code only to or from C#. They support multiple programming languages.\n",
       "\n",
       "- **\"Azure OpenAI models can only translate code from Python to C# or Java\"**:\n",
       "  This statement is incorrect as well because Azure OpenAI models are not confined to translating only between Python, C#, and Java. They support a wider range of languages."
      ],
      "text/plain": [
       "<IPython.core.display.Markdown object>"
      ]
     },
     "metadata": {},
     "output_type": "display_data"
    }
   ],
   "source": [
    "%%chat\n",
    "\n",
    "What is an example of how Azure OpenAI models can change coding language?\n",
    "\n",
    "- Azure OpenAI models can only translate code from one language to another if the code is written in C#\n",
    "- If you have code in one language, but need it in another, Azure OpenAI can translate that for you in several languages\n",
    "- Azure OpenAI models can only translate code from Python to C# or Java\n",
    "\n",
    "Choose the correct answer and explain why"
   ]
  }
 ],
 "metadata": {
  "kernelspec": {
   "display_name": "Python 3",
   "language": "python",
   "name": "python3"
  },
  "language_info": {
   "codemirror_mode": {
    "name": "ipython",
    "version": 3
   },
   "file_extension": ".py",
   "mimetype": "text/x-python",
   "name": "python",
   "nbconvert_exporter": "python",
   "pygments_lexer": "ipython3",
   "version": "3.11.9"
  }
 },
 "nbformat": 4,
 "nbformat_minor": 2
}
